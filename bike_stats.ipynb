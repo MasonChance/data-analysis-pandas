{
 "metadata": {
  "language_info": {
   "codemirror_mode": {
    "name": "ipython",
    "version": 3
   },
   "file_extension": ".py",
   "mimetype": "text/x-python",
   "name": "python",
   "nbconvert_exporter": "python",
   "pygments_lexer": "ipython3",
   "version": "3.9.0-final"
  },
  "orig_nbformat": 2,
  "kernelspec": {
   "name": "python3",
   "display_name": "Python 3",
   "language": "python"
  }
 },
 "nbformat": 4,
 "nbformat_minor": 2,
 "cells": [
  {
   "source": [
    "Data Analysis with Pandas: Seattle Cycle-Share program\n",
    "Mason Fryberger 01/19/2021\n",
    "\n",
    "Data Source and Analysis tools:\n",
    "\n",
    "Data pulled from [Kaggle-Cycle-Share-Dataset](https://www.kaggle.com/pronto/cycle-share-dataset)\n",
    "\n",
    "Data structured and analyzed with Pandas and NumPy\n",
    "\n",
    "This Study attempts to answer the following questions:\n",
    "\n",
    "- What is the average trip duration for a borrowed bicycle?\n",
    "- What is the most common age of a bicycle-sharer?\n",
    "- Given all the weather data, what is the average precipitation per month? the median?\n",
    "- What's the average number of bikes at a given bike station?\n",
    "- When a bike station is modified, is it more likely to gain or lose bikes? how do we know this?\n",
    "\n",
    "- Does use of stations by short-term-pass-holders have any correlation to above or below average precipitation? if so what is the correlation?\n",
    "- What is the average length of a trip?\n",
    "- What is the most common route for a trip?\n",
    "\n"
   ],
   "cell_type": "markdown",
   "metadata": {}
  },
  {
   "source": [
    "#Imports, Aliases, Assignments\n"
   ],
   "cell_type": "markdown",
   "metadata": {}
  },
  {
   "cell_type": "code",
   "execution_count": 27,
   "metadata": {},
   "outputs": [
    {
     "output_type": "stream",
     "name": "stderr",
     "text": [
      "b'Skipping line 50794: expected 12 fields, saw 20\\n'\n"
     ]
    },
    {
     "output_type": "execute_result",
     "data": {
      "text/plain": [
       "RangeIndex(start=0, stop=286857, step=1)"
      ]
     },
     "metadata": {},
     "execution_count": 27
    }
   ],
   "source": [
    "%matplotlib inline\n",
    "import numpy as np \n",
    "import pandas as pd \n",
    "\n",
    "df_trip = pd.read_csv('data-sets-csv/trip.csv', error_bad_lines=False)\n",
    "cp_df_trip = df_trip.copy()\n",
    "date = pd.Series([d_t.split()[0] for d_t in cp_df_trip['starttime']]) # creates series of dates from starttime column\n",
    "cp_df_trip.assign(date= date)  # adds date series as column to dataframe.\n",
    "df_station = pd.read_csv('data-sets-csv/station.csv').set_index('station_id')\n",
    "df_weather = pd.read_csv('data-sets-csv/weather.csv')\n",
    "\n",
    "\n",
    "\n",
    "\n"
   ]
  },
  {
   "source": [
    "### Average Trip Duration\n"
   ],
   "cell_type": "markdown",
   "metadata": {}
  },
  {
   "cell_type": "code",
   "execution_count": 36,
   "metadata": {},
   "outputs": [
    {
     "output_type": "stream",
     "name": "stdout",
     "text": [
      "The average trip duration for Cycle-Share rides is: 19.0\n"
     ]
    }
   ],
   "source": [
    "avg_duration = cp_df_trip['tripduration'].mean() // 60\n",
    "print(f'The average trip duration for Cycle-Share rides is: {avg_duration}')"
   ]
  },
  {
   "source": [
    "### What is the most common age of a bicycle sharer\n",
    "\n",
    "as temporary pass holders have no age data, rows have been droped to reflect this\n"
   ],
   "cell_type": "markdown",
   "metadata": {}
  },
  {
   "cell_type": "code",
   "execution_count": 38,
   "metadata": {},
   "outputs": [
    {
     "output_type": "stream",
     "name": "stdout",
     "text": [
      "The most common age of Bicycle-sharers is: 0    34.0\ndtype: float64 yrs\n"
     ]
    }
   ],
   "source": [
    "common_age = 2021 - cp_df_trip['birthyear'].mode()\n",
    "print(f'The most common age of Bicycle-sharers is: {common_age} yrs')"
   ]
  },
  {
   "source": [
    "### What is the average precipitation per month, the median?\n",
    "\n",
    "for this we will need a timeseries, find the rolling average for each individual month and use that to compute across all datapoints for all months on record. "
   ],
   "cell_type": "markdown",
   "metadata": {}
  },
  {
   "cell_type": "code",
   "execution_count": null,
   "metadata": {},
   "outputs": [],
   "source": []
  }
 ]
}