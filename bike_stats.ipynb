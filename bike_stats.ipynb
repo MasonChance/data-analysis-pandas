{
 "metadata": {
  "language_info": {
   "codemirror_mode": {
    "name": "ipython",
    "version": 3
   },
   "file_extension": ".py",
   "mimetype": "text/x-python",
   "name": "python",
   "nbconvert_exporter": "python",
   "pygments_lexer": "ipython3",
   "version": "3.8.5-final"
  },
  "orig_nbformat": 2,
  "kernelspec": {
   "name": "python3",
   "display_name": "Python 3",
   "language": "python"
  }
 },
 "nbformat": 4,
 "nbformat_minor": 2,
 "cells": [
  {
   "source": [
    "Data Analysis with Pandas: Seattle Cycle-Share program\n",
    "Mason Fryberger 01/19/2021\n",
    "\n",
    "Data Source and Analysis tools:\n",
    "\n",
    "Data pulled from [Kaggle-Cycle-Share-Dataset](https://www.kaggle.com/pronto/cycle-share-dataset)\n",
    "\n",
    "Data structured and analyzed with Pandas and NumPy\n",
    "\n",
    "This Study attempts to answer the following questions:\n",
    "\n",
    "- What is the average trip duration for a borrowed bicycle?\n",
    "- What is the most common age of a bicycle-sharer?\n",
    "- Given all the weather data, what is the average precipitation per month? the median?\n",
    "- What's the average number of bikes at a given bike station?\n",
    "- When a bike station is modified, is it more likely to gain or lose bikes? how do we know this?\n",
    "\n",
    "- Does use of stations by short-term-pass-holders have any correlation to above or below average precipitation? if so what is the correlation?\n",
    "- What is the average length of a trip?\n",
    "- What is the most common route for a trip?\n",
    "\n"
   ],
   "cell_type": "markdown",
   "metadata": {}
  }
 ]
}