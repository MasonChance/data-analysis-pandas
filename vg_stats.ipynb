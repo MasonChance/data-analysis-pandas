{
 "metadata": {
  "language_info": {
   "codemirror_mode": {
    "name": "ipython",
    "version": 3
   },
   "file_extension": ".py",
   "mimetype": "text/x-python",
   "name": "python",
   "nbconvert_exporter": "python",
   "pygments_lexer": "ipython3",
   "version": "3.9.0-final"
  },
  "orig_nbformat": 2,
  "kernelspec": {
   "name": "python3",
   "display_name": "Python 3",
   "language": "python"
  }
 },
 "nbformat": 4,
 "nbformat_minor": 2,
 "cells": [
  {
   "source": [
    "# Data Analysis with Pandas: World Video Game Sales Data(cross-platform)\n",
    "Mason Fryberger 01/19/2021\n",
    "\n",
    "### Data Source and Analysis tools:\n",
    "Data pulled from [Kaggle-Video-Game-Sales](https://www.kaggle.com/gregorut/videogamesales)\n",
    "\n",
    "Data structured and analyzed with Pandas and NumPy\n",
    "Dollar values in millions.\n",
    "\n",
    "This Study attempts to answer the following questions:\n",
    "- Which company is the most common video game publisher? (globally)\n",
    "- What's the most common platform? (globally)\n",
    "- What's the most common genre of game? (globally)\n",
    "- What are the top 20 highest grossing games? (globally)\n",
    "- For North Amercan (NA) game sales, what is the median?\n",
    "    - what are the top ten games at or around the median?\n",
    "- For the top selling game of all time (globally), what is the standard deviation of NA sales\n",
    "  to the Global average\n",
    "- The Nintendo Wii seems to have the most games published, how does its average sales compare\n",
    "  to the sales of other platforms? \n",
    "  - overall?\n",
    "  - individually?\n",
    "  \n",
    "- What Percent of the global marketshare is held by NA?\n",
    "- What is the average rate of growth for the game publishing industry globally?\n",
    "- Assuming a constant rate of growth and constant marketshare, what are the expected sales\n",
    "  for NA in 5 years\n",
    "\n"
   ],
   "cell_type": "markdown",
   "metadata": {}
  },
  {
   "source": [
    "Imports, Aliases, and Assignments\n"
   ],
   "cell_type": "markdown",
   "metadata": {}
  },
  {
   "cell_type": "code",
   "execution_count": 1,
   "metadata": {},
   "outputs": [],
   "source": [
    "%matplotlib inline\n",
    "import numpy as np \n",
    "import pandas as pd \n",
    "import matplotlib.pyplot as plt \n",
    "\n",
    "df = pd.read_csv('data-sets-csv/vgsales.csv')\n",
    "pd.set_option('precision', 4)\n"
   ]
  },
  {
   "cell_type": "code",
   "execution_count": 2,
   "metadata": {},
   "outputs": [
    {
     "output_type": "execute_result",
     "data": {
      "text/plain": [
       "                                                   Rank Platform    Year  \\\n",
       "Name                                                                       \n",
       "Wii Sports                                            1      Wii  2006.0   \n",
       "Super Mario Bros.                                     2      NES  1985.0   \n",
       "Mario Kart Wii                                        3      Wii  2008.0   \n",
       "Wii Sports Resort                                     4      Wii  2009.0   \n",
       "Pokemon Red/Pokemon Blue                              5       GB  1996.0   \n",
       "...                                                 ...      ...     ...   \n",
       "Woody Woodpecker in Crazy Castle 5                16596      GBA  2002.0   \n",
       "Men in Black II: Alien Escape                     16597       GC  2003.0   \n",
       "SCORE International Baja 1000: The Official Game  16598      PS2  2008.0   \n",
       "Know How 2                                        16599       DS  2010.0   \n",
       "Spirits & Spells                                  16600      GBA  2003.0   \n",
       "\n",
       "                                                         Genre   Publisher  \\\n",
       "Name                                                                         \n",
       "Wii Sports                                              Sports    Nintendo   \n",
       "Super Mario Bros.                                     Platform    Nintendo   \n",
       "Mario Kart Wii                                          Racing    Nintendo   \n",
       "Wii Sports Resort                                       Sports    Nintendo   \n",
       "Pokemon Red/Pokemon Blue                          Role-Playing    Nintendo   \n",
       "...                                                        ...         ...   \n",
       "Woody Woodpecker in Crazy Castle 5                    Platform       Kemco   \n",
       "Men in Black II: Alien Escape                          Shooter  Infogrames   \n",
       "SCORE International Baja 1000: The Official Game        Racing  Activision   \n",
       "Know How 2                                              Puzzle    7G//AMES   \n",
       "Spirits & Spells                                      Platform     Wanadoo   \n",
       "\n",
       "                                                  NA_Sales  EU_Sales  \\\n",
       "Name                                                                   \n",
       "Wii Sports                                           41.49     29.02   \n",
       "Super Mario Bros.                                    29.08      3.58   \n",
       "Mario Kart Wii                                       15.85     12.88   \n",
       "Wii Sports Resort                                    15.75     11.01   \n",
       "Pokemon Red/Pokemon Blue                             11.27      8.89   \n",
       "...                                                    ...       ...   \n",
       "Woody Woodpecker in Crazy Castle 5                    0.01      0.00   \n",
       "Men in Black II: Alien Escape                         0.01      0.00   \n",
       "SCORE International Baja 1000: The Official Game      0.00      0.00   \n",
       "Know How 2                                            0.00      0.01   \n",
       "Spirits & Spells                                      0.01      0.00   \n",
       "\n",
       "                                                  JP_Sales  Other_Sales  \\\n",
       "Name                                                                      \n",
       "Wii Sports                                            3.77         8.46   \n",
       "Super Mario Bros.                                     6.81         0.77   \n",
       "Mario Kart Wii                                        3.79         3.31   \n",
       "Wii Sports Resort                                     3.28         2.96   \n",
       "Pokemon Red/Pokemon Blue                             10.22         1.00   \n",
       "...                                                    ...          ...   \n",
       "Woody Woodpecker in Crazy Castle 5                    0.00         0.00   \n",
       "Men in Black II: Alien Escape                         0.00         0.00   \n",
       "SCORE International Baja 1000: The Official Game      0.00         0.00   \n",
       "Know How 2                                            0.00         0.00   \n",
       "Spirits & Spells                                      0.00         0.00   \n",
       "\n",
       "                                                  Global_Sales  \n",
       "Name                                                            \n",
       "Wii Sports                                               82.74  \n",
       "Super Mario Bros.                                        40.24  \n",
       "Mario Kart Wii                                           35.82  \n",
       "Wii Sports Resort                                        33.00  \n",
       "Pokemon Red/Pokemon Blue                                 31.37  \n",
       "...                                                        ...  \n",
       "Woody Woodpecker in Crazy Castle 5                        0.01  \n",
       "Men in Black II: Alien Escape                             0.01  \n",
       "SCORE International Baja 1000: The Official Game          0.01  \n",
       "Know How 2                                                0.01  \n",
       "Spirits & Spells                                          0.01  \n",
       "\n",
       "[16598 rows x 10 columns]"
      ],
      "text/html": "<div>\n<style scoped>\n    .dataframe tbody tr th:only-of-type {\n        vertical-align: middle;\n    }\n\n    .dataframe tbody tr th {\n        vertical-align: top;\n    }\n\n    .dataframe thead th {\n        text-align: right;\n    }\n</style>\n<table border=\"1\" class=\"dataframe\">\n  <thead>\n    <tr style=\"text-align: right;\">\n      <th></th>\n      <th>Rank</th>\n      <th>Platform</th>\n      <th>Year</th>\n      <th>Genre</th>\n      <th>Publisher</th>\n      <th>NA_Sales</th>\n      <th>EU_Sales</th>\n      <th>JP_Sales</th>\n      <th>Other_Sales</th>\n      <th>Global_Sales</th>\n    </tr>\n    <tr>\n      <th>Name</th>\n      <th></th>\n      <th></th>\n      <th></th>\n      <th></th>\n      <th></th>\n      <th></th>\n      <th></th>\n      <th></th>\n      <th></th>\n      <th></th>\n    </tr>\n  </thead>\n  <tbody>\n    <tr>\n      <th>Wii Sports</th>\n      <td>1</td>\n      <td>Wii</td>\n      <td>2006.0</td>\n      <td>Sports</td>\n      <td>Nintendo</td>\n      <td>41.49</td>\n      <td>29.02</td>\n      <td>3.77</td>\n      <td>8.46</td>\n      <td>82.74</td>\n    </tr>\n    <tr>\n      <th>Super Mario Bros.</th>\n      <td>2</td>\n      <td>NES</td>\n      <td>1985.0</td>\n      <td>Platform</td>\n      <td>Nintendo</td>\n      <td>29.08</td>\n      <td>3.58</td>\n      <td>6.81</td>\n      <td>0.77</td>\n      <td>40.24</td>\n    </tr>\n    <tr>\n      <th>Mario Kart Wii</th>\n      <td>3</td>\n      <td>Wii</td>\n      <td>2008.0</td>\n      <td>Racing</td>\n      <td>Nintendo</td>\n      <td>15.85</td>\n      <td>12.88</td>\n      <td>3.79</td>\n      <td>3.31</td>\n      <td>35.82</td>\n    </tr>\n    <tr>\n      <th>Wii Sports Resort</th>\n      <td>4</td>\n      <td>Wii</td>\n      <td>2009.0</td>\n      <td>Sports</td>\n      <td>Nintendo</td>\n      <td>15.75</td>\n      <td>11.01</td>\n      <td>3.28</td>\n      <td>2.96</td>\n      <td>33.00</td>\n    </tr>\n    <tr>\n      <th>Pokemon Red/Pokemon Blue</th>\n      <td>5</td>\n      <td>GB</td>\n      <td>1996.0</td>\n      <td>Role-Playing</td>\n      <td>Nintendo</td>\n      <td>11.27</td>\n      <td>8.89</td>\n      <td>10.22</td>\n      <td>1.00</td>\n      <td>31.37</td>\n    </tr>\n    <tr>\n      <th>...</th>\n      <td>...</td>\n      <td>...</td>\n      <td>...</td>\n      <td>...</td>\n      <td>...</td>\n      <td>...</td>\n      <td>...</td>\n      <td>...</td>\n      <td>...</td>\n      <td>...</td>\n    </tr>\n    <tr>\n      <th>Woody Woodpecker in Crazy Castle 5</th>\n      <td>16596</td>\n      <td>GBA</td>\n      <td>2002.0</td>\n      <td>Platform</td>\n      <td>Kemco</td>\n      <td>0.01</td>\n      <td>0.00</td>\n      <td>0.00</td>\n      <td>0.00</td>\n      <td>0.01</td>\n    </tr>\n    <tr>\n      <th>Men in Black II: Alien Escape</th>\n      <td>16597</td>\n      <td>GC</td>\n      <td>2003.0</td>\n      <td>Shooter</td>\n      <td>Infogrames</td>\n      <td>0.01</td>\n      <td>0.00</td>\n      <td>0.00</td>\n      <td>0.00</td>\n      <td>0.01</td>\n    </tr>\n    <tr>\n      <th>SCORE International Baja 1000: The Official Game</th>\n      <td>16598</td>\n      <td>PS2</td>\n      <td>2008.0</td>\n      <td>Racing</td>\n      <td>Activision</td>\n      <td>0.00</td>\n      <td>0.00</td>\n      <td>0.00</td>\n      <td>0.00</td>\n      <td>0.01</td>\n    </tr>\n    <tr>\n      <th>Know How 2</th>\n      <td>16599</td>\n      <td>DS</td>\n      <td>2010.0</td>\n      <td>Puzzle</td>\n      <td>7G//AMES</td>\n      <td>0.00</td>\n      <td>0.01</td>\n      <td>0.00</td>\n      <td>0.00</td>\n      <td>0.01</td>\n    </tr>\n    <tr>\n      <th>Spirits &amp; Spells</th>\n      <td>16600</td>\n      <td>GBA</td>\n      <td>2003.0</td>\n      <td>Platform</td>\n      <td>Wanadoo</td>\n      <td>0.01</td>\n      <td>0.00</td>\n      <td>0.00</td>\n      <td>0.00</td>\n      <td>0.01</td>\n    </tr>\n  </tbody>\n</table>\n<p>16598 rows × 10 columns</p>\n</div>"
     },
     "metadata": {},
     "execution_count": 2
    }
   ],
   "source": [
    "\n",
    "df.set_index('Name')"
   ]
  },
  {
   "source": [
    "### Most common Game publisher"
   ],
   "cell_type": "markdown",
   "metadata": {}
  },
  {
   "cell_type": "code",
   "execution_count": 3,
   "metadata": {},
   "outputs": [
    {
     "output_type": "execute_result",
     "data": {
      "text/plain": [
       "0    Electronic Arts\n",
       "dtype: object"
      ]
     },
     "metadata": {},
     "execution_count": 3
    }
   ],
   "source": [
    "common_pub = df['Publisher'].mode()\n",
    "common_pub\n"
   ]
  },
  {
   "cell_type": "code",
   "execution_count": 4,
   "metadata": {},
   "outputs": [
    {
     "output_type": "execute_result",
     "data": {
      "text/plain": [
       "Name    1351\n",
       "dtype: int64"
      ]
     },
     "metadata": {},
     "execution_count": 4
    }
   ],
   "source": [
    "games_by_pub = df[df['Publisher'] == 'Electronic Arts'][['Name']].count()\n",
    "games_by_pub"
   ]
  },
  {
   "source": [
    "We can see that Electronic Arts was the most common publisher over the time covered by the dataset with over 1,300 games published."
   ],
   "cell_type": "markdown",
   "metadata": {}
  },
  {
   "source": [
    "### Most Common Platform"
   ],
   "cell_type": "markdown",
   "metadata": {}
  },
  {
   "source": [
    "We based our calclulation for the most common platform purely on the total number of titles published for the system in the years covered by the study. It is possible that a more accurate representation might be achieved using a coefficient of global sales in relation to other platforms however with out access to data regarding the Number of copies sold, this approach was disregarded and we have restricted our query to the data-set and number of occurences within it. "
   ],
   "cell_type": "markdown",
   "metadata": {}
  },
  {
   "cell_type": "code",
   "execution_count": 5,
   "metadata": {},
   "outputs": [
    {
     "output_type": "execute_result",
     "data": {
      "text/plain": [
       "0    DS\n",
       "dtype: object"
      ]
     },
     "metadata": {},
     "execution_count": 5
    }
   ],
   "source": [
    "common_plat = df['Platform'].mode()\n",
    "common_plat"
   ]
  },
  {
   "cell_type": "code",
   "execution_count": 6,
   "metadata": {},
   "outputs": [
    {
     "output_type": "execute_result",
     "data": {
      "text/plain": [
       "Name    2163\n",
       "dtype: int64"
      ]
     },
     "metadata": {},
     "execution_count": 6
    }
   ],
   "source": [
    "games_on_ds = df[df['Platform'] == 'DS'][['Name']].count()\n",
    "games_on_ds"
   ]
  },
  {
   "source": [
    "### Most Common Genre: (occurences in Dataset)\n",
    "\n",
    "as with Most Common Platform we restrict ourselves to measureing occurences in the dataset, as calculations without access  to cost/unit and units-sold could not be considered accurate regarding presence/demand in the marketplace.\n"
   ],
   "cell_type": "markdown",
   "metadata": {}
  },
  {
   "cell_type": "code",
   "execution_count": 7,
   "metadata": {},
   "outputs": [
    {
     "output_type": "stream",
     "name": "stdout",
     "text": [
      "0    Action\ndtype: object\n"
     ]
    },
    {
     "output_type": "execute_result",
     "data": {
      "text/plain": [
       "Name    3316\n",
       "dtype: int64"
      ]
     },
     "metadata": {},
     "execution_count": 7
    }
   ],
   "source": [
    "common_genre = df['Genre'].mode()\n",
    "print(common_genre)\n",
    "titles_in_genre = df[df['Genre'] == 'Action'][['Name']].count()\n",
    "titles_in_genre\n"
   ]
  },
  {
   "source": [
    "In conclusion the \"Action\" genre is the most common in the dataset with 3,316 occurences.\n"
   ],
   "cell_type": "markdown",
   "metadata": {}
  },
  {
   "source": [
    "### Top 20 Highest Grossing games (globally)\n"
   ],
   "cell_type": "markdown",
   "metadata": {}
  },
  {
   "cell_type": "code",
   "execution_count": null,
   "metadata": {},
   "outputs": [],
   "source": [
    "sorted_games_by_sales = df[['Name', 'Global_Sales']].set_index('Name').head(20)\n",
    "print(sorted_games_by_sales)\n",
    "sorted_games_by_sales.plot(kind=\"bar\")\n"
   ]
  },
  {
   "source": [
    "### Median NA Sales and top ten games at or near Median value.\n",
    "\n",
    "For games in the top ten list with sales not equal to the median we sorted by equal number of titles above and below the median. \n",
    "on discovering that more than ten titles were at the median value we decided to plot the first ten returned by our query. values shown in millions."
   ],
   "cell_type": "markdown",
   "metadata": {}
  },
  {
   "cell_type": "code",
   "execution_count": null,
   "metadata": {},
   "outputs": [],
   "source": [
    "median_na_sales = df['NA_Sales'].median()\n",
    "print(f'{median_na_sales} million')\n",
    "\n",
    "ten_group_med = df[df['NA_Sales'] == median_na_sales][['Name', 'NA_Sales']].set_index('Name').head(10)\n",
    "    \n",
    "print(f'{ten_group_med}')"
   ]
  },
  {
   "source": [
    "### Standard Deviation for Top Grossing game to Global Average\n",
    "\n",
    "to determine how far above or below the Global average the top grossing game was we first Identified the game and global average and then used pandas built in std() method to get the standard deviation. by multiplying the difference between global_mean and NA_Sales by the standard deviation we get the number of deviations above or below as a (+/-)integer"
   ],
   "cell_type": "markdown",
   "metadata": {}
  },
  {
   "cell_type": "code",
   "execution_count": null,
   "metadata": {},
   "outputs": [],
   "source": [
    "global_mean = df['Global_Sales'].mean()\n",
    "print(f'{global_mean} Global Average in millions')\n",
    "\n",
    "top_gross = df[df['Global_Sales'] == df['Global_Sales'].max()][['Name']].set_index('Name')\n",
    "top_gross_val = df['Global_Sales'].max()\n",
    "print(f'Top Grossing Game of all time: {top_gross.index[0]} with {top_gross_val} million in Global Sales')\n",
    "\n",
    "standard_devi = df['Global_Sales'].std()\n",
    "print(f'Standard Deviation: {standard_devi}')\n",
    "top_gross_na_sales = df[df['Global_Sales'] == df['Global_Sales'].max()][['Name', 'NA_Sales']][['NA_Sales']].set_index('NA_Sales')\n",
    "print(f'North American sales for Top Grossing game of all time: {top_gross_na_sales.index[0]}')\n",
    "\n",
    "print(f'At {top_gross_na_sales.index[0]} {top_gross.index[0]} NA Sales are {(global_mean - top_gross_na_sales.index[0]) // standard_devi} standard deviations below the global average of {global_mean}')"
   ]
  },
  {
   "source": [
    "### Nintendo Wii: average sales compared to other platforms.\n",
    "while the assigned feature task claims that the Wii has most games published we know from our earlier analysis that it is actually the DS with most games published. \n",
    "\n",
    "here we have chosen to plot the global sales of all platforms in a barchart and then show the global sales for Nintendo Wii as a percentage of all global sales in a piechart."
   ],
   "cell_type": "markdown",
   "metadata": {}
  },
  {
   "cell_type": "code",
   "execution_count": null,
   "metadata": {},
   "outputs": [],
   "source": [
    "platforms = df.groupby('Platform')['Global_Sales'].sum().sort_values()\n",
    "wii_sale = platforms[platforms == platforms['Wii']]\n",
    "glb_sale = platforms[platforms != platforms['Wii']]\n",
    "\n",
    "other_sales = pd.Series([glb_sale.sum()], index=[\"Other\"])\n",
    "wii_sale = wii_sale.append(other_sales)\n",
    "\n",
    "fig, axs = plt.subplots(1,2)\n",
    "\n",
    "print(f'Global Sales by Platform in millions: \\n {platforms}')\n",
    "\n",
    "platforms.plot(kind='bar', ax=axs[0]) \n",
    "wii_sale.plot(kind='pie', label=\"\", ax=axs[1]) \n"
   ]
  },
  {
   "source": [
    "### What percent of Global marketshare is held by NA:\n",
    " \n",
    "We can see this with a simple calculation by pulling the sum of NA sales and dividing it by the sum of global sales. \n"
   ],
   "cell_type": "markdown",
   "metadata": {}
  },
  {
   "cell_type": "code",
   "execution_count": null,
   "metadata": {},
   "outputs": [],
   "source": [
    "total_mkt = df['Global_Sales'].sum().round(3)\n",
    "na_mkt = df['NA_Sales'].sum().round(3)\n",
    "mkt_capture_na = na_mkt / total_mkt\n",
    "print(f' North America holds {mkt_capture_na.round(2) * 100} % of the Global Market')"
   ]
  },
  {
   "source": [
    "### Average Rate of Growth for Global Game Sales.\n",
    "\n"
   ],
   "cell_type": "markdown",
   "metadata": {}
  },
  {
   "cell_type": "code",
   "execution_count": null,
   "metadata": {},
   "outputs": [],
   "source": [
    "by_year = df.groupby('Year')[['Global_Sales']].sum()\n",
    "num_years = by_year['Global_Sales'].count()\n",
    "first_sales = by_year['Global_Sales'][by_year.index[0]].round()\n",
    "# print(f'first year of study Global_Sales in millions: {first_sales} ')\n",
    "last_sales = by_year['Global_Sales'][by_year.index[-1]]\n",
    "# print(f'last year of study Global_Sales in millions: {last_sales}')\n",
    "\n",
    "growth = ((last_sales - first_sales ) / first_sales) * 100\n",
    "print(f'Historical Growth of Global_Sales over {num_years} covered by the study:  {growth.round(3)} %')\n",
    "# print(f'Global_Sales for {num_years} years covered by the study: in millions \\n {by_year}')\n"
   ]
  },
  {
   "cell_type": "code",
   "execution_count": null,
   "metadata": {},
   "outputs": [],
   "source": []
  }
 ]
}