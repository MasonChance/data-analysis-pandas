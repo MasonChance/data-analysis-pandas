{
 "metadata": {
  "language_info": {
   "codemirror_mode": {
    "name": "ipython",
    "version": 3
   },
   "file_extension": ".py",
   "mimetype": "text/x-python",
   "name": "python",
   "nbconvert_exporter": "python",
   "pygments_lexer": "ipython3",
   "version": 3
  },
  "orig_nbformat": 2
 },
 "nbformat": 4,
 "nbformat_minor": 2,
 "cells": [
  {
   "source": [
    "# Data Analysis with Pandas: World Video Game Sales Data(cross-platform)\n",
    "Mason Fryberger 01/19/2021\n",
    "\n",
    "### Data Source and Analysis tools:\n",
    "Data pulled from [Kaggle]\n",
    "\n",
    "Data structured and analyzed with Pandas and NumPy\n",
    "\n",
    "This Study attempts to answer the following questions:\n",
    "- Which company is the most common video game publisher? (globally)\n",
    "- What's the most common platform? (globally)\n",
    "- What's the most common genre of game? (globally)\n",
    "- What are the top 20 highest grossing games? (globally)\n",
    "- For North Amercan (NA) game sales, what is the median?\n",
    "    - what are the top ten games at or around the median?\n",
    "- For the top selling game of all time (globally), what is the standard deviation of NA sales\n",
    "  to the Global average\n",
    "- The Nintendo Wii seems to have the most games published, how does its average sales compare\n",
    "  to the sales of other platforms? \n",
    "  - overall?\n",
    "  - individually?\n",
    "- What Percent of the global marketshare is held by NA?\n",
    "- What is the average rate of growth for the game publishing industry globally?\n",
    "- Assuming a constant rate of growth and constant marketshare, what are the expected sales\n",
    "  for NA in 5 years\n",
    "\n"
   ],
   "cell_type": "markdown",
   "metadata": {}
  }
 ]
}