{
 "metadata": {
  "language_info": {
   "codemirror_mode": {
    "name": "ipython",
    "version": 3
   },
   "file_extension": ".py",
   "mimetype": "text/x-python",
   "name": "python",
   "nbconvert_exporter": "python",
   "pygments_lexer": "ipython3",
   "version": "3.9.0-final"
  },
  "orig_nbformat": 2,
  "kernelspec": {
   "name": "python3",
   "display_name": "Python 3",
   "language": "python"
  }
 },
 "nbformat": 4,
 "nbformat_minor": 2,
 "cells": [
  {
   "source": [
    "# Data Analysis with Pandas: World Video Game Sales Data(cross-platform)\n",
    "Mason Fryberger 01/19/2021\n",
    "\n",
    "### Data Source and Analysis tools:\n",
    "Data pulled from [Kaggle-Video-Game-Sales](https://www.kaggle.com/gregorut/videogamesales)\n",
    "\n",
    "Data structured and analyzed with Pandas and NumPy\n",
    "Dollar values in millions.\n",
    "\n",
    "This Study attempts to answer the following questions:\n",
    "- Which company is the most common video game publisher? (globally)\n",
    "- What's the most common platform? (globally)\n",
    "- What's the most common genre of game? (globally)\n",
    "- What are the top 20 highest grossing games? (globally)\n",
    "- For North Amercan (NA) game sales, what is the median?\n",
    "    - what are the top ten games at or around the median?\n",
    "- For the top selling game of all time (globally), what is the standard deviation of NA sales\n",
    "  to the Global average\n",
    "- The Nintendo Wii seems to have the most games published, how does its average sales compare\n",
    "  to the sales of other platforms? \n",
    "  - overall?\n",
    "  - individually?\n",
    "  \n",
    "- What Percent of the global marketshare is held by NA?\n",
    "- What is the average rate of growth for the game publishing industry globally?\n",
    "- Assuming a constant rate of growth and constant marketshare, what are the expected sales\n",
    "  for NA in 5 years\n",
    "\n"
   ],
   "cell_type": "markdown",
   "metadata": {}
  },
  {
   "source": [
    "Imports, Aliases, and Assignments\n"
   ],
   "cell_type": "markdown",
   "metadata": {}
  },
  {
   "cell_type": "code",
   "execution_count": 2,
   "metadata": {},
   "outputs": [],
   "source": [
    "import numpy as np \n",
    "import pandas as pd \n",
    "import matplotlib.pyplot as plt \n",
    "\n",
    "df = pd.read_csv('data-sets-csv/vgsales.csv')\n"
   ]
  },
  {
   "cell_type": "code",
   "execution_count": 5,
   "metadata": {},
   "outputs": [
    {
     "output_type": "execute_result",
     "data": {
      "text/plain": [
       "                                                   Rank Platform    Year  \\\n",
       "Name                                                                       \n",
       "Wii Sports                                            1      Wii  2006.0   \n",
       "Super Mario Bros.                                     2      NES  1985.0   \n",
       "Mario Kart Wii                                        3      Wii  2008.0   \n",
       "Wii Sports Resort                                     4      Wii  2009.0   \n",
       "Pokemon Red/Pokemon Blue                              5       GB  1996.0   \n",
       "...                                                 ...      ...     ...   \n",
       "Woody Woodpecker in Crazy Castle 5                16596      GBA  2002.0   \n",
       "Men in Black II: Alien Escape                     16597       GC  2003.0   \n",
       "SCORE International Baja 1000: The Official Game  16598      PS2  2008.0   \n",
       "Know How 2                                        16599       DS  2010.0   \n",
       "Spirits & Spells                                  16600      GBA  2003.0   \n",
       "\n",
       "                                                         Genre   Publisher  \\\n",
       "Name                                                                         \n",
       "Wii Sports                                              Sports    Nintendo   \n",
       "Super Mario Bros.                                     Platform    Nintendo   \n",
       "Mario Kart Wii                                          Racing    Nintendo   \n",
       "Wii Sports Resort                                       Sports    Nintendo   \n",
       "Pokemon Red/Pokemon Blue                          Role-Playing    Nintendo   \n",
       "...                                                        ...         ...   \n",
       "Woody Woodpecker in Crazy Castle 5                    Platform       Kemco   \n",
       "Men in Black II: Alien Escape                          Shooter  Infogrames   \n",
       "SCORE International Baja 1000: The Official Game        Racing  Activision   \n",
       "Know How 2                                              Puzzle    7G//AMES   \n",
       "Spirits & Spells                                      Platform     Wanadoo   \n",
       "\n",
       "                                                  NA_Sales  EU_Sales  \\\n",
       "Name                                                                   \n",
       "Wii Sports                                           41.49     29.02   \n",
       "Super Mario Bros.                                    29.08      3.58   \n",
       "Mario Kart Wii                                       15.85     12.88   \n",
       "Wii Sports Resort                                    15.75     11.01   \n",
       "Pokemon Red/Pokemon Blue                             11.27      8.89   \n",
       "...                                                    ...       ...   \n",
       "Woody Woodpecker in Crazy Castle 5                    0.01      0.00   \n",
       "Men in Black II: Alien Escape                         0.01      0.00   \n",
       "SCORE International Baja 1000: The Official Game      0.00      0.00   \n",
       "Know How 2                                            0.00      0.01   \n",
       "Spirits & Spells                                      0.01      0.00   \n",
       "\n",
       "                                                  JP_Sales  Other_Sales  \\\n",
       "Name                                                                      \n",
       "Wii Sports                                            3.77         8.46   \n",
       "Super Mario Bros.                                     6.81         0.77   \n",
       "Mario Kart Wii                                        3.79         3.31   \n",
       "Wii Sports Resort                                     3.28         2.96   \n",
       "Pokemon Red/Pokemon Blue                             10.22         1.00   \n",
       "...                                                    ...          ...   \n",
       "Woody Woodpecker in Crazy Castle 5                    0.00         0.00   \n",
       "Men in Black II: Alien Escape                         0.00         0.00   \n",
       "SCORE International Baja 1000: The Official Game      0.00         0.00   \n",
       "Know How 2                                            0.00         0.00   \n",
       "Spirits & Spells                                      0.00         0.00   \n",
       "\n",
       "                                                  Global_Sales  \n",
       "Name                                                            \n",
       "Wii Sports                                               82.74  \n",
       "Super Mario Bros.                                        40.24  \n",
       "Mario Kart Wii                                           35.82  \n",
       "Wii Sports Resort                                        33.00  \n",
       "Pokemon Red/Pokemon Blue                                 31.37  \n",
       "...                                                        ...  \n",
       "Woody Woodpecker in Crazy Castle 5                        0.01  \n",
       "Men in Black II: Alien Escape                             0.01  \n",
       "SCORE International Baja 1000: The Official Game          0.01  \n",
       "Know How 2                                                0.01  \n",
       "Spirits & Spells                                          0.01  \n",
       "\n",
       "[16598 rows x 10 columns]"
      ],
      "text/html": "<div>\n<style scoped>\n    .dataframe tbody tr th:only-of-type {\n        vertical-align: middle;\n    }\n\n    .dataframe tbody tr th {\n        vertical-align: top;\n    }\n\n    .dataframe thead th {\n        text-align: right;\n    }\n</style>\n<table border=\"1\" class=\"dataframe\">\n  <thead>\n    <tr style=\"text-align: right;\">\n      <th></th>\n      <th>Rank</th>\n      <th>Platform</th>\n      <th>Year</th>\n      <th>Genre</th>\n      <th>Publisher</th>\n      <th>NA_Sales</th>\n      <th>EU_Sales</th>\n      <th>JP_Sales</th>\n      <th>Other_Sales</th>\n      <th>Global_Sales</th>\n    </tr>\n    <tr>\n      <th>Name</th>\n      <th></th>\n      <th></th>\n      <th></th>\n      <th></th>\n      <th></th>\n      <th></th>\n      <th></th>\n      <th></th>\n      <th></th>\n      <th></th>\n    </tr>\n  </thead>\n  <tbody>\n    <tr>\n      <th>Wii Sports</th>\n      <td>1</td>\n      <td>Wii</td>\n      <td>2006.0</td>\n      <td>Sports</td>\n      <td>Nintendo</td>\n      <td>41.49</td>\n      <td>29.02</td>\n      <td>3.77</td>\n      <td>8.46</td>\n      <td>82.74</td>\n    </tr>\n    <tr>\n      <th>Super Mario Bros.</th>\n      <td>2</td>\n      <td>NES</td>\n      <td>1985.0</td>\n      <td>Platform</td>\n      <td>Nintendo</td>\n      <td>29.08</td>\n      <td>3.58</td>\n      <td>6.81</td>\n      <td>0.77</td>\n      <td>40.24</td>\n    </tr>\n    <tr>\n      <th>Mario Kart Wii</th>\n      <td>3</td>\n      <td>Wii</td>\n      <td>2008.0</td>\n      <td>Racing</td>\n      <td>Nintendo</td>\n      <td>15.85</td>\n      <td>12.88</td>\n      <td>3.79</td>\n      <td>3.31</td>\n      <td>35.82</td>\n    </tr>\n    <tr>\n      <th>Wii Sports Resort</th>\n      <td>4</td>\n      <td>Wii</td>\n      <td>2009.0</td>\n      <td>Sports</td>\n      <td>Nintendo</td>\n      <td>15.75</td>\n      <td>11.01</td>\n      <td>3.28</td>\n      <td>2.96</td>\n      <td>33.00</td>\n    </tr>\n    <tr>\n      <th>Pokemon Red/Pokemon Blue</th>\n      <td>5</td>\n      <td>GB</td>\n      <td>1996.0</td>\n      <td>Role-Playing</td>\n      <td>Nintendo</td>\n      <td>11.27</td>\n      <td>8.89</td>\n      <td>10.22</td>\n      <td>1.00</td>\n      <td>31.37</td>\n    </tr>\n    <tr>\n      <th>...</th>\n      <td>...</td>\n      <td>...</td>\n      <td>...</td>\n      <td>...</td>\n      <td>...</td>\n      <td>...</td>\n      <td>...</td>\n      <td>...</td>\n      <td>...</td>\n      <td>...</td>\n    </tr>\n    <tr>\n      <th>Woody Woodpecker in Crazy Castle 5</th>\n      <td>16596</td>\n      <td>GBA</td>\n      <td>2002.0</td>\n      <td>Platform</td>\n      <td>Kemco</td>\n      <td>0.01</td>\n      <td>0.00</td>\n      <td>0.00</td>\n      <td>0.00</td>\n      <td>0.01</td>\n    </tr>\n    <tr>\n      <th>Men in Black II: Alien Escape</th>\n      <td>16597</td>\n      <td>GC</td>\n      <td>2003.0</td>\n      <td>Shooter</td>\n      <td>Infogrames</td>\n      <td>0.01</td>\n      <td>0.00</td>\n      <td>0.00</td>\n      <td>0.00</td>\n      <td>0.01</td>\n    </tr>\n    <tr>\n      <th>SCORE International Baja 1000: The Official Game</th>\n      <td>16598</td>\n      <td>PS2</td>\n      <td>2008.0</td>\n      <td>Racing</td>\n      <td>Activision</td>\n      <td>0.00</td>\n      <td>0.00</td>\n      <td>0.00</td>\n      <td>0.00</td>\n      <td>0.01</td>\n    </tr>\n    <tr>\n      <th>Know How 2</th>\n      <td>16599</td>\n      <td>DS</td>\n      <td>2010.0</td>\n      <td>Puzzle</td>\n      <td>7G//AMES</td>\n      <td>0.00</td>\n      <td>0.01</td>\n      <td>0.00</td>\n      <td>0.00</td>\n      <td>0.01</td>\n    </tr>\n    <tr>\n      <th>Spirits &amp; Spells</th>\n      <td>16600</td>\n      <td>GBA</td>\n      <td>2003.0</td>\n      <td>Platform</td>\n      <td>Wanadoo</td>\n      <td>0.01</td>\n      <td>0.00</td>\n      <td>0.00</td>\n      <td>0.00</td>\n      <td>0.01</td>\n    </tr>\n  </tbody>\n</table>\n<p>16598 rows × 10 columns</p>\n</div>"
     },
     "metadata": {},
     "execution_count": 5
    }
   ],
   "source": [
    "\n",
    "df.set_index('Name')"
   ]
  },
  {
   "source": [
    "### Most common Game publisher"
   ],
   "cell_type": "markdown",
   "metadata": {}
  },
  {
   "cell_type": "code",
   "execution_count": 22,
   "metadata": {},
   "outputs": [
    {
     "output_type": "execute_result",
     "data": {
      "text/plain": [
       "0    Electronic Arts\n",
       "dtype: object"
      ]
     },
     "metadata": {},
     "execution_count": 22
    }
   ],
   "source": [
    "common_pub = df['Publisher'].mode()\n",
    "common_pub\n"
   ]
  },
  {
   "cell_type": "code",
   "execution_count": 25,
   "metadata": {},
   "outputs": [
    {
     "output_type": "execute_result",
     "data": {
      "text/plain": [
       "Name    1351\n",
       "dtype: int64"
      ]
     },
     "metadata": {},
     "execution_count": 25
    }
   ],
   "source": [
    "games_by_pub = df[df['Publisher'] == 'Electronic Arts'][['Name']].count()\n",
    "games_by_pub"
   ]
  },
  {
   "source": [
    "We can see that Electronic Arts was the most common publisher over the time covered by the dataset with over 1,300 games published."
   ],
   "cell_type": "markdown",
   "metadata": {}
  },
  {
   "cell_type": "code",
   "execution_count": 26,
   "metadata": {},
   "outputs": [
    {
     "output_type": "execute_result",
     "data": {
      "text/plain": [
       "0    DS\n",
       "dtype: object"
      ]
     },
     "metadata": {},
     "execution_count": 26
    }
   ],
   "source": [
    "common_plat = df[df['Platform']].mode()\n",
    "common_plat"
   ]
  },
  {
   "cell_type": "code",
   "execution_count": 27,
   "metadata": {},
   "outputs": [
    {
     "output_type": "execute_result",
     "data": {
      "text/plain": [
       "Name    2163\n",
       "dtype: int64"
      ]
     },
     "metadata": {},
     "execution_count": 27
    }
   ],
   "source": [
    "games_on_ds = df[df['Platform'] == 'DS'][['Name']].count()\n",
    "games_on_ds"
   ]
  },
  {
   "source": [
    "We based our calclulation for the most common platform purely on the total number of titles published for the system in the years covered by the study. It is possible that a more accurate representation might be achieved using a coefficient of global sales in relation to other platforms."
   ],
   "cell_type": "markdown",
   "metadata": {}
  },
  {
   "cell_type": "code",
   "execution_count": 43,
   "metadata": {},
   "outputs": [
    {
     "output_type": "error",
     "ename": "KeyError",
     "evalue": "\"None of [Index(['Publisher', 'Global_Sales'], dtype='object')] are in the [index]\"",
     "traceback": [
      "\u001b[0;31m---------------------------------------------------------------------------\u001b[0m",
      "\u001b[0;31mKeyError\u001b[0m                                  Traceback (most recent call last)",
      "\u001b[0;32m<ipython-input-43-044b021d9789>\u001b[0m in \u001b[0;36m<module>\u001b[0;34m\u001b[0m\n\u001b[0;32m----> 1\u001b[0;31m \u001b[0mgroup_pubs\u001b[0m \u001b[0;34m=\u001b[0m \u001b[0mdf\u001b[0m\u001b[0;34m[\u001b[0m\u001b[0;34m'Name'\u001b[0m\u001b[0;34m]\u001b[0m\u001b[0;34m[\u001b[0m\u001b[0;34m[\u001b[0m\u001b[0;34m'Publisher'\u001b[0m\u001b[0;34m,\u001b[0m \u001b[0;34m'Global_Sales'\u001b[0m\u001b[0;34m]\u001b[0m\u001b[0;34m]\u001b[0m\u001b[0;34m\u001b[0m\u001b[0;34m\u001b[0m\u001b[0m\n\u001b[0m\u001b[1;32m      2\u001b[0m \u001b[0mgroup_pubs\u001b[0m\u001b[0;34m\u001b[0m\u001b[0;34m\u001b[0m\u001b[0m\n",
      "\u001b[0;32m/mnt/c/Users/mason/codefellows/projects/fellows401/data-analysis-pandas/.venv/lib/python3.9/site-packages/pandas/core/series.py\u001b[0m in \u001b[0;36m__getitem__\u001b[0;34m(self, key)\u001b[0m\n\u001b[1;32m    846\u001b[0m             \u001b[0;32mreturn\u001b[0m \u001b[0mself\u001b[0m\u001b[0;34m.\u001b[0m\u001b[0m_get_values\u001b[0m\u001b[0;34m(\u001b[0m\u001b[0mkey\u001b[0m\u001b[0;34m)\u001b[0m\u001b[0;34m\u001b[0m\u001b[0;34m\u001b[0m\u001b[0m\n\u001b[1;32m    847\u001b[0m \u001b[0;34m\u001b[0m\u001b[0m\n\u001b[0;32m--> 848\u001b[0;31m         \u001b[0;32mreturn\u001b[0m \u001b[0mself\u001b[0m\u001b[0;34m.\u001b[0m\u001b[0m_get_with\u001b[0m\u001b[0;34m(\u001b[0m\u001b[0mkey\u001b[0m\u001b[0;34m)\u001b[0m\u001b[0;34m\u001b[0m\u001b[0;34m\u001b[0m\u001b[0m\n\u001b[0m\u001b[1;32m    849\u001b[0m \u001b[0;34m\u001b[0m\u001b[0m\n\u001b[1;32m    850\u001b[0m     \u001b[0;32mdef\u001b[0m \u001b[0m_get_with\u001b[0m\u001b[0;34m(\u001b[0m\u001b[0mself\u001b[0m\u001b[0;34m,\u001b[0m \u001b[0mkey\u001b[0m\u001b[0;34m)\u001b[0m\u001b[0;34m:\u001b[0m\u001b[0;34m\u001b[0m\u001b[0;34m\u001b[0m\u001b[0m\n",
      "\u001b[0;32m/mnt/c/Users/mason/codefellows/projects/fellows401/data-analysis-pandas/.venv/lib/python3.9/site-packages/pandas/core/series.py\u001b[0m in \u001b[0;36m_get_with\u001b[0;34m(self, key)\u001b[0m\n\u001b[1;32m    886\u001b[0m \u001b[0;34m\u001b[0m\u001b[0m\n\u001b[1;32m    887\u001b[0m         \u001b[0;31m# handle the dup indexing case GH#4246\u001b[0m\u001b[0;34m\u001b[0m\u001b[0;34m\u001b[0m\u001b[0;34m\u001b[0m\u001b[0m\n\u001b[0;32m--> 888\u001b[0;31m         \u001b[0;32mreturn\u001b[0m \u001b[0mself\u001b[0m\u001b[0;34m.\u001b[0m\u001b[0mloc\u001b[0m\u001b[0;34m[\u001b[0m\u001b[0mkey\u001b[0m\u001b[0;34m]\u001b[0m\u001b[0;34m\u001b[0m\u001b[0;34m\u001b[0m\u001b[0m\n\u001b[0m\u001b[1;32m    889\u001b[0m \u001b[0;34m\u001b[0m\u001b[0m\n\u001b[1;32m    890\u001b[0m     \u001b[0;32mdef\u001b[0m \u001b[0m_get_values_tuple\u001b[0m\u001b[0;34m(\u001b[0m\u001b[0mself\u001b[0m\u001b[0;34m,\u001b[0m \u001b[0mkey\u001b[0m\u001b[0;34m)\u001b[0m\u001b[0;34m:\u001b[0m\u001b[0;34m\u001b[0m\u001b[0;34m\u001b[0m\u001b[0m\n",
      "\u001b[0;32m/mnt/c/Users/mason/codefellows/projects/fellows401/data-analysis-pandas/.venv/lib/python3.9/site-packages/pandas/core/indexing.py\u001b[0m in \u001b[0;36m__getitem__\u001b[0;34m(self, key)\u001b[0m\n\u001b[1;32m    892\u001b[0m \u001b[0;34m\u001b[0m\u001b[0m\n\u001b[1;32m    893\u001b[0m             \u001b[0mmaybe_callable\u001b[0m \u001b[0;34m=\u001b[0m \u001b[0mcom\u001b[0m\u001b[0;34m.\u001b[0m\u001b[0mapply_if_callable\u001b[0m\u001b[0;34m(\u001b[0m\u001b[0mkey\u001b[0m\u001b[0;34m,\u001b[0m \u001b[0mself\u001b[0m\u001b[0;34m.\u001b[0m\u001b[0mobj\u001b[0m\u001b[0;34m)\u001b[0m\u001b[0;34m\u001b[0m\u001b[0;34m\u001b[0m\u001b[0m\n\u001b[0;32m--> 894\u001b[0;31m             \u001b[0;32mreturn\u001b[0m \u001b[0mself\u001b[0m\u001b[0;34m.\u001b[0m\u001b[0m_getitem_axis\u001b[0m\u001b[0;34m(\u001b[0m\u001b[0mmaybe_callable\u001b[0m\u001b[0;34m,\u001b[0m \u001b[0maxis\u001b[0m\u001b[0;34m=\u001b[0m\u001b[0maxis\u001b[0m\u001b[0;34m)\u001b[0m\u001b[0;34m\u001b[0m\u001b[0;34m\u001b[0m\u001b[0m\n\u001b[0m\u001b[1;32m    895\u001b[0m \u001b[0;34m\u001b[0m\u001b[0m\n\u001b[1;32m    896\u001b[0m     \u001b[0;32mdef\u001b[0m \u001b[0m_is_scalar_access\u001b[0m\u001b[0;34m(\u001b[0m\u001b[0mself\u001b[0m\u001b[0;34m,\u001b[0m \u001b[0mkey\u001b[0m\u001b[0;34m:\u001b[0m \u001b[0mTuple\u001b[0m\u001b[0;34m)\u001b[0m\u001b[0;34m:\u001b[0m\u001b[0;34m\u001b[0m\u001b[0;34m\u001b[0m\u001b[0m\n",
      "\u001b[0;32m/mnt/c/Users/mason/codefellows/projects/fellows401/data-analysis-pandas/.venv/lib/python3.9/site-packages/pandas/core/indexing.py\u001b[0m in \u001b[0;36m_getitem_axis\u001b[0;34m(self, key, axis)\u001b[0m\n\u001b[1;32m   1110\u001b[0m                     \u001b[0;32mraise\u001b[0m \u001b[0mValueError\u001b[0m\u001b[0;34m(\u001b[0m\u001b[0;34m\"Cannot index with multidimensional key\"\u001b[0m\u001b[0;34m)\u001b[0m\u001b[0;34m\u001b[0m\u001b[0;34m\u001b[0m\u001b[0m\n\u001b[1;32m   1111\u001b[0m \u001b[0;34m\u001b[0m\u001b[0m\n\u001b[0;32m-> 1112\u001b[0;31m                 \u001b[0;32mreturn\u001b[0m \u001b[0mself\u001b[0m\u001b[0;34m.\u001b[0m\u001b[0m_getitem_iterable\u001b[0m\u001b[0;34m(\u001b[0m\u001b[0mkey\u001b[0m\u001b[0;34m,\u001b[0m \u001b[0maxis\u001b[0m\u001b[0;34m=\u001b[0m\u001b[0maxis\u001b[0m\u001b[0;34m)\u001b[0m\u001b[0;34m\u001b[0m\u001b[0;34m\u001b[0m\u001b[0m\n\u001b[0m\u001b[1;32m   1113\u001b[0m \u001b[0;34m\u001b[0m\u001b[0m\n\u001b[1;32m   1114\u001b[0m             \u001b[0;31m# nested tuple slicing\u001b[0m\u001b[0;34m\u001b[0m\u001b[0;34m\u001b[0m\u001b[0;34m\u001b[0m\u001b[0m\n",
      "\u001b[0;32m/mnt/c/Users/mason/codefellows/projects/fellows401/data-analysis-pandas/.venv/lib/python3.9/site-packages/pandas/core/indexing.py\u001b[0m in \u001b[0;36m_getitem_iterable\u001b[0;34m(self, key, axis)\u001b[0m\n\u001b[1;32m   1050\u001b[0m \u001b[0;34m\u001b[0m\u001b[0m\n\u001b[1;32m   1051\u001b[0m         \u001b[0;31m# A collection of keys\u001b[0m\u001b[0;34m\u001b[0m\u001b[0;34m\u001b[0m\u001b[0;34m\u001b[0m\u001b[0m\n\u001b[0;32m-> 1052\u001b[0;31m         \u001b[0mkeyarr\u001b[0m\u001b[0;34m,\u001b[0m \u001b[0mindexer\u001b[0m \u001b[0;34m=\u001b[0m \u001b[0mself\u001b[0m\u001b[0;34m.\u001b[0m\u001b[0m_get_listlike_indexer\u001b[0m\u001b[0;34m(\u001b[0m\u001b[0mkey\u001b[0m\u001b[0;34m,\u001b[0m \u001b[0maxis\u001b[0m\u001b[0;34m,\u001b[0m \u001b[0mraise_missing\u001b[0m\u001b[0;34m=\u001b[0m\u001b[0;32mFalse\u001b[0m\u001b[0;34m)\u001b[0m\u001b[0;34m\u001b[0m\u001b[0;34m\u001b[0m\u001b[0m\n\u001b[0m\u001b[1;32m   1053\u001b[0m         return self.obj._reindex_with_indexers(\n\u001b[1;32m   1054\u001b[0m             \u001b[0;34m{\u001b[0m\u001b[0maxis\u001b[0m\u001b[0;34m:\u001b[0m \u001b[0;34m[\u001b[0m\u001b[0mkeyarr\u001b[0m\u001b[0;34m,\u001b[0m \u001b[0mindexer\u001b[0m\u001b[0;34m]\u001b[0m\u001b[0;34m}\u001b[0m\u001b[0;34m,\u001b[0m \u001b[0mcopy\u001b[0m\u001b[0;34m=\u001b[0m\u001b[0;32mTrue\u001b[0m\u001b[0;34m,\u001b[0m \u001b[0mallow_dups\u001b[0m\u001b[0;34m=\u001b[0m\u001b[0;32mTrue\u001b[0m\u001b[0;34m\u001b[0m\u001b[0;34m\u001b[0m\u001b[0m\n",
      "\u001b[0;32m/mnt/c/Users/mason/codefellows/projects/fellows401/data-analysis-pandas/.venv/lib/python3.9/site-packages/pandas/core/indexing.py\u001b[0m in \u001b[0;36m_get_listlike_indexer\u001b[0;34m(self, key, axis, raise_missing)\u001b[0m\n\u001b[1;32m   1263\u001b[0m             \u001b[0mkeyarr\u001b[0m\u001b[0;34m,\u001b[0m \u001b[0mindexer\u001b[0m\u001b[0;34m,\u001b[0m \u001b[0mnew_indexer\u001b[0m \u001b[0;34m=\u001b[0m \u001b[0max\u001b[0m\u001b[0;34m.\u001b[0m\u001b[0m_reindex_non_unique\u001b[0m\u001b[0;34m(\u001b[0m\u001b[0mkeyarr\u001b[0m\u001b[0;34m)\u001b[0m\u001b[0;34m\u001b[0m\u001b[0;34m\u001b[0m\u001b[0m\n\u001b[1;32m   1264\u001b[0m \u001b[0;34m\u001b[0m\u001b[0m\n\u001b[0;32m-> 1265\u001b[0;31m         \u001b[0mself\u001b[0m\u001b[0;34m.\u001b[0m\u001b[0m_validate_read_indexer\u001b[0m\u001b[0;34m(\u001b[0m\u001b[0mkeyarr\u001b[0m\u001b[0;34m,\u001b[0m \u001b[0mindexer\u001b[0m\u001b[0;34m,\u001b[0m \u001b[0maxis\u001b[0m\u001b[0;34m,\u001b[0m \u001b[0mraise_missing\u001b[0m\u001b[0;34m=\u001b[0m\u001b[0mraise_missing\u001b[0m\u001b[0;34m)\u001b[0m\u001b[0;34m\u001b[0m\u001b[0;34m\u001b[0m\u001b[0m\n\u001b[0m\u001b[1;32m   1266\u001b[0m         \u001b[0;32mreturn\u001b[0m \u001b[0mkeyarr\u001b[0m\u001b[0;34m,\u001b[0m \u001b[0mindexer\u001b[0m\u001b[0;34m\u001b[0m\u001b[0;34m\u001b[0m\u001b[0m\n\u001b[1;32m   1267\u001b[0m \u001b[0;34m\u001b[0m\u001b[0m\n",
      "\u001b[0;32m/mnt/c/Users/mason/codefellows/projects/fellows401/data-analysis-pandas/.venv/lib/python3.9/site-packages/pandas/core/indexing.py\u001b[0m in \u001b[0;36m_validate_read_indexer\u001b[0;34m(self, key, indexer, axis, raise_missing)\u001b[0m\n\u001b[1;32m   1305\u001b[0m             \u001b[0;32mif\u001b[0m \u001b[0mmissing\u001b[0m \u001b[0;34m==\u001b[0m \u001b[0mlen\u001b[0m\u001b[0;34m(\u001b[0m\u001b[0mindexer\u001b[0m\u001b[0;34m)\u001b[0m\u001b[0;34m:\u001b[0m\u001b[0;34m\u001b[0m\u001b[0;34m\u001b[0m\u001b[0m\n\u001b[1;32m   1306\u001b[0m                 \u001b[0maxis_name\u001b[0m \u001b[0;34m=\u001b[0m \u001b[0mself\u001b[0m\u001b[0;34m.\u001b[0m\u001b[0mobj\u001b[0m\u001b[0;34m.\u001b[0m\u001b[0m_get_axis_name\u001b[0m\u001b[0;34m(\u001b[0m\u001b[0maxis\u001b[0m\u001b[0;34m)\u001b[0m\u001b[0;34m\u001b[0m\u001b[0;34m\u001b[0m\u001b[0m\n\u001b[0;32m-> 1307\u001b[0;31m                 \u001b[0;32mraise\u001b[0m \u001b[0mKeyError\u001b[0m\u001b[0;34m(\u001b[0m\u001b[0;34mf\"None of [{key}] are in the [{axis_name}]\"\u001b[0m\u001b[0;34m)\u001b[0m\u001b[0;34m\u001b[0m\u001b[0;34m\u001b[0m\u001b[0m\n\u001b[0m\u001b[1;32m   1308\u001b[0m \u001b[0;34m\u001b[0m\u001b[0m\n\u001b[1;32m   1309\u001b[0m             \u001b[0max\u001b[0m \u001b[0;34m=\u001b[0m \u001b[0mself\u001b[0m\u001b[0;34m.\u001b[0m\u001b[0mobj\u001b[0m\u001b[0;34m.\u001b[0m\u001b[0m_get_axis\u001b[0m\u001b[0;34m(\u001b[0m\u001b[0maxis\u001b[0m\u001b[0;34m)\u001b[0m\u001b[0;34m\u001b[0m\u001b[0;34m\u001b[0m\u001b[0m\n",
      "\u001b[0;31mKeyError\u001b[0m: \"None of [Index(['Publisher', 'Global_Sales'], dtype='object')] are in the [index]\""
     ]
    }
   ],
   "source": [
    "group_pubs = df['Name'][['Publisher', 'Global_Sales']]\n",
    "group_pubs"
   ]
  },
  {
   "cell_type": "code",
   "execution_count": null,
   "metadata": {},
   "outputs": [],
   "source": []
  }
 ]
}